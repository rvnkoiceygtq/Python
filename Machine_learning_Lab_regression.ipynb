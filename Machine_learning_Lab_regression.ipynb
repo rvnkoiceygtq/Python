{
 "cells": [
  {
   "cell_type": "code",
   "execution_count": 1,
   "metadata": {},
   "outputs": [
    {
     "name": "stdout",
     "output_type": "stream",
     "text": [
      "C:\\Users\\111897\n"
     ]
    }
   ],
   "source": [
    "import os\n",
    "cwd = os.getcwd()\n",
    "print(cwd)"
   ]
  },
  {
   "cell_type": "code",
   "execution_count": 2,
   "metadata": {},
   "outputs": [],
   "source": [
    "import pyodbc\n",
    "import matplotlib.pyplot as plt\n",
    "import pandas as pd"
   ]
  },
  {
   "cell_type": "code",
   "execution_count": 28,
   "metadata": {},
   "outputs": [
    {
     "name": "stdout",
     "output_type": "stream",
     "text": [
      "Index(['unino', '性別', 'opening_date', 'age', 'JOB_TITLE_1', '職業', '教育程度',\n",
      "       '台外幣總存款餘額', '當月AP總計', '房貸開戶月', '年齡'],\n",
      "      dtype='object')\n"
     ]
    }
   ],
   "source": [
    "cnxn = pyodbc.connect(driver='{SQL Server}', server='10.11.48.12', database='FZSRD_BD',               \n",
    "               trusted_connection='yes')\n",
    "\n",
    "#sql = 'SELECT top 10 * FROM v_customer_數位帳戶客戶'\n",
    "sql = 'SELECT top 10 unino,性別,opening_date,age,JOB_TITLE_1,職業,教育程度,台外幣總存款餘額,當月AP總計,房貸開戶月,年齡 FROM v_customer_數位帳戶客戶'\n",
    "\n",
    "data=pd.read_sql(sql, cnxn)\n",
    "\n",
    "print(data.columns)\n",
    "\n",
    "cnxn.close()"
   ]
  },
  {
   "cell_type": "code",
   "execution_count": 29,
   "metadata": {},
   "outputs": [
    {
     "name": "stdout",
     "output_type": "stream",
     "text": [
      "             age      台外幣總存款餘額       當月AP總計         年齡\n",
      "count  10.000000  1.000000e+01    10.000000  10.000000\n",
      "mean   34.600000  9.023614e+05  -811.930000  34.600000\n",
      "std     7.089899  1.449903e+05  1758.951715   7.089899\n",
      "min    28.000000  5.428210e+05 -5790.150000  28.000000\n",
      "25%    30.500000  8.981848e+05  -268.550000  30.500000\n",
      "50%    32.500000  9.369755e+05  -261.835000  32.500000\n",
      "75%    34.000000  9.996468e+05  -246.380000  34.000000\n",
      "max    51.000000  1.018423e+06   -27.010000  51.000000\n"
     ]
    }
   ],
   "source": [
    "print(data.describe())"
   ]
  },
  {
   "cell_type": "code",
   "execution_count": 30,
   "metadata": {},
   "outputs": [
    {
     "name": "stdout",
     "output_type": "stream",
     "text": [
      "<class 'pandas.core.frame.DataFrame'>\n",
      "RangeIndex: 10 entries, 0 to 9\n",
      "Data columns (total 11 columns):\n",
      " #   Column        Non-Null Count  Dtype  \n",
      "---  ------        --------------  -----  \n",
      " 0   unino         10 non-null     object \n",
      " 1   性別            10 non-null     object \n",
      " 2   opening_date  10 non-null     object \n",
      " 3   age           10 non-null     int64  \n",
      " 4   JOB_TITLE_1   10 non-null     object \n",
      " 5   職業            10 non-null     object \n",
      " 6   教育程度          10 non-null     object \n",
      " 7   台外幣總存款餘額      10 non-null     float64\n",
      " 8   當月AP總計        10 non-null     float64\n",
      " 9   房貸開戶月         10 non-null     object \n",
      " 10  年齡            10 non-null     int64  \n",
      "dtypes: float64(2), int64(2), object(7)\n",
      "memory usage: 1008.0+ bytes\n"
     ]
    }
   ],
   "source": [
    "data.info(verbose=True)"
   ]
  },
  {
   "cell_type": "code",
   "execution_count": 46,
   "metadata": {},
   "outputs": [],
   "source": [
    "data[\"年齡\"] = data[\"年齡\"].astype(int)\n",
    "data[\"當月AP總計\"] = data[\"當月AP總計\"].astype(int)\n",
    "#data[\"房貸開戶月\"] = data[\"房貸開戶月\"].astype(str)\n",
    "data[\"房貸開戶月\"] = data[\"房貸開戶月\"].astype('category')\n"
   ]
  },
  {
   "cell_type": "code",
   "execution_count": 47,
   "metadata": {},
   "outputs": [
    {
     "name": "stdout",
     "output_type": "stream",
     "text": [
      "<class 'pandas.core.frame.DataFrame'>\n",
      "RangeIndex: 10 entries, 0 to 9\n",
      "Data columns (total 11 columns):\n",
      " #   Column        Non-Null Count  Dtype   \n",
      "---  ------        --------------  -----   \n",
      " 0   unino         10 non-null     object  \n",
      " 1   性別            10 non-null     object  \n",
      " 2   opening_date  10 non-null     object  \n",
      " 3   age           10 non-null     int64   \n",
      " 4   JOB_TITLE_1   10 non-null     object  \n",
      " 5   職業            10 non-null     object  \n",
      " 6   教育程度          10 non-null     object  \n",
      " 7   台外幣總存款餘額      10 non-null     float64 \n",
      " 8   當月AP總計        10 non-null     int32   \n",
      " 9   房貸開戶月         10 non-null     category\n",
      " 10  年齡            10 non-null     int32   \n",
      "dtypes: category(1), float64(1), int32(2), int64(1), object(6)\n",
      "memory usage: 946.0+ bytes\n"
     ]
    }
   ],
   "source": [
    "data.info(verbose=True)"
   ]
  },
  {
   "cell_type": "code",
   "execution_count": 48,
   "metadata": {},
   "outputs": [
    {
     "data": {
      "text/plain": [
       "unino             object\n",
       "性別                object\n",
       "opening_date      object\n",
       "age                int64\n",
       "JOB_TITLE_1       object\n",
       "職業                object\n",
       "教育程度              object\n",
       "台外幣總存款餘額         float64\n",
       "當月AP總計             int32\n",
       "房貸開戶月           category\n",
       "年齡                 int32\n",
       "dtype: object"
      ]
     },
     "execution_count": 48,
     "metadata": {},
     "output_type": "execute_result"
    }
   ],
   "source": [
    "data.dtypes"
   ]
  },
  {
   "cell_type": "code",
   "execution_count": 49,
   "metadata": {},
   "outputs": [
    {
     "name": "stdout",
     "output_type": "stream",
     "text": [
      "0    男\n",
      "1    男\n",
      "2    男\n",
      "3    女\n",
      "4    男\n",
      "5    女\n",
      "6    男\n",
      "7    女\n",
      "8    女\n",
      "9    男\n",
      "Name: 性別, dtype: object\n",
      "0    D1771549630\n",
      "1    F1789588330\n",
      "2    S1735334280\n",
      "3    A2704849650\n",
      "4    W1225615430\n",
      "5    S2723625910\n",
      "6    N1717905580\n",
      "7    S2735043020\n",
      "8    H2757005300\n",
      "9    F1709499110\n",
      "Name: unino, dtype: object\n",
      "0    28\n",
      "1    32\n",
      "2    30\n",
      "3    34\n",
      "4    33\n",
      "5    51\n",
      "6    32\n",
      "7    29\n",
      "8    43\n",
      "9    34\n",
      "Name: age, dtype: int64\n",
      "0    4大學\n",
      "1    2高中\n",
      "2    5碩士\n",
      "3    4大學\n",
      "4    4大學\n",
      "5    2高中\n",
      "6    4大學\n",
      "7    5碩士\n",
      "8    4大學\n",
      "9    4大學\n",
      "Name: 教育程度, dtype: object\n",
      "0   -5790\n",
      "1     -27\n",
      "2    -261\n",
      "3    -267\n",
      "4    -711\n",
      "5    -245\n",
      "6    -248\n",
      "7     -35\n",
      "8    -268\n",
      "9    -262\n",
      "Name: 當月AP總計, dtype: int32\n"
     ]
    }
   ],
   "source": [
    "print(\"{}\".format(data['性別']))\n",
    "print(\"{}\".format(data['unino']))\n",
    "print(\"{}\".format(data['age']))\n",
    "print(\"{}\".format(data['教育程度']))\n",
    "print(\"{}\".format(data['當月AP總計']))"
   ]
  },
  {
   "cell_type": "code",
   "execution_count": 53,
   "metadata": {},
   "outputs": [
    {
     "data": {
      "image/png": "[encoded data removed]",
      "text/plain": [
       "<Figure size 432x288 with 1 Axes>"
      ]
     },
     "metadata": {
      "needs_background": "light"
     },
     "output_type": "display_data"
    }
   ],
   "source": [
    "import numpy as np\n",
    "import matplotlib.pyplot as plt\n",
    "plt.scatter(data['age'],data['當月AP總計'])\n",
    "plt.show()"
   ]
  },
  {
   "cell_type": "code",
   "execution_count": 54,
   "metadata": {},
   "outputs": [],
   "source": [
    "from sklearn import linear_model\n",
    "reg = linear_model.LinearRegression()"
   ]
  },
  {
   "cell_type": "code",
   "execution_count": 68,
   "metadata": {},
   "outputs": [
    {
     "name": "stdout",
     "output_type": "stream",
     "text": [
      "[[28]\n",
      " [32]\n",
      " [30]\n",
      " [34]\n",
      " [33]\n",
      " [51]\n",
      " [32]\n",
      " [29]\n",
      " [43]\n",
      " [34]]\n",
      "[-5790   -27  -261  -267  -711  -245  -248   -35  -268  -262]\n"
     ]
    },
    {
     "data": {
      "text/plain": [
       "LinearRegression(copy_X=True, fit_intercept=True, n_jobs=None, normalize=False)"
      ]
     },
     "execution_count": 68,
     "metadata": {},
     "output_type": "execute_result"
    }
   ],
   "source": [
    "len(data['age'])\n",
    "x = np.array(data.iloc[:,-1])\n",
    "y = np.array(data.iloc[:,-3])\n",
    "x = x.reshape(-1,1)\n",
    "print(x)\n",
    "print(y)\n",
    "reg.fit(x,y)\n"
   ]
  },
  {
   "cell_type": "code",
   "execution_count": 69,
   "metadata": {},
   "outputs": [
    {
     "data": {
      "text/plain": [
       "array([78.49557913])"
      ]
     },
     "execution_count": 69,
     "metadata": {},
     "output_type": "execute_result"
    }
   ],
   "source": [
    "reg.coef_"
   ]
  },
  {
   "cell_type": "code",
   "execution_count": null,
   "metadata": {},
   "outputs": [],
   "source": []
  }
 ],
 "metadata": {
  "kernelspec": {
   "display_name": "Python 3",
   "language": "python",
   "name": "python3"
  },
  "language_info": {
   "codemirror_mode": {
    "name": "ipython",
    "version": 3
   },
   "file_extension": ".py",
   "mimetype": "text/x-python",
   "name": "python",
   "nbconvert_exporter": "python",
   "pygments_lexer": "ipython3",
   "version": "3.7.6"
  }
 },
 "nbformat": 4,
 "nbformat_minor": 4
}
