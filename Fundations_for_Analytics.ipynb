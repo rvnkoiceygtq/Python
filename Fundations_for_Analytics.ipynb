{
 "cells": [
  {
   "cell_type": "markdown",
   "metadata": {},
   "source": [
    "# 取得目前檔案路徑"
   ]
  },
  {
   "cell_type": "code",
   "execution_count": 6,
   "metadata": {},
   "outputs": [
    {
     "name": "stdout",
     "output_type": "stream",
     "text": [
      "/Users/wurobin/Documents/Myfolder/機器學習/Python_train\n"
     ]
    }
   ],
   "source": [
    "import os\n",
    "cwd = os.getcwd()\n",
    "print(cwd)"
   ]
  },
  {
   "cell_type": "markdown",
   "metadata": {},
   "source": [
    "## 使用format"
   ]
  },
  {
   "cell_type": "code",
   "execution_count": 8,
   "metadata": {},
   "outputs": [
    {
     "name": "stdout",
     "output_type": "stream",
     "text": [
      "output #2: four plus five equals 9\n"
     ]
    }
   ],
   "source": [
    "x = 4\n",
    "y = 5\n",
    "z = x + y\n",
    "#format 中的值用：d 表示以不帶小數點的數值顯示\n",
    "print(\"output #2: four plus five equals {0:d}\".format(z))"
   ]
  },
  {
   "cell_type": "markdown",
   "metadata": {},
   "source": [
    "# multi format"
   ]
  },
  {
   "cell_type": "code",
   "execution_count": 7,
   "metadata": {},
   "outputs": [
    {
     "name": "stdout",
     "output_type": "stream",
     "text": [
      "output #3: [1, 2, 3, 4], ['first', 'second', 'third', 'fourth'], [1, 2, 3, 4, 'first', 'second', 'third', 'fourth']\n"
     ]
    }
   ],
   "source": [
    "a = [1, 2, 3, 4]\n",
    "b = [\"first\", \"second\", \"third\", \"fourth\"]\n",
    "c = a + b\n",
    "print(\"output #3: {0}, {1}, {2}\".format(a, b, c))"
   ]
  },
  {
   "cell_type": "markdown",
   "metadata": {},
   "source": [
    "# Python的基本元素  (數字, 字串, 日期, Tuple, 字典)"
   ]
  },
  {
   "cell_type": "markdown",
   "metadata": {},
   "source": [
    "### 數字 - 整數"
   ]
  },
  {
   "cell_type": "code",
   "execution_count": 33,
   "metadata": {},
   "outputs": [
    {
     "name": "stdout",
     "output_type": "stream",
     "text": [
      "output #4: 9\n",
      "output #5: 12\n",
      "output #6: 4.0\n",
      "output #7: 3.074074074074074\n",
      "output #8: 4.0\n"
     ]
    }
   ],
   "source": [
    "x = 9\n",
    "print(\"output #4: {0}\".format(x))\n",
    "print(\"output #5: {0}\".format(3*4))\n",
    "print(\"output #6: {0}\".format(8.0/2.0))\n",
    "print(\"output #7: {0}\".format(8.3/2.7))\n",
    "print(\"output #8: {0}\".format(int(8.3)/int(2.7)))"
   ]
  },
  {
   "cell_type": "markdown",
   "metadata": {},
   "source": [
    "### 數字 - 浮點數"
   ]
  },
  {
   "cell_type": "code",
   "execution_count": 37,
   "metadata": {},
   "outputs": [
    {
     "name": "stdout",
     "output_type": "stream",
     "text": [
      "output #1: 9.500\n",
      "output #2: 9.50\n",
      "output #3: 2.67\n",
      "output #4: 2.67\n",
      "output #5: <class 'float'>\n",
      "output #6: <class 'float'>\n",
      "output #7: <class 'float'>\n",
      "<class 'float'>\n",
      "<class 'float'>\n",
      "<class 'float'>\n"
     ]
    },
    {
     "data": {
      "text/plain": [
       "float"
      ]
     },
     "execution_count": 37,
     "metadata": {},
     "output_type": "execute_result"
    }
   ],
   "source": [
    "x = 9.5\n",
    "#有小數點不能用d \n",
    "#print(\"output #1: {0:d}\".format(x))\n",
    "print(\"output #1: {0:.3f}\".format(x))\n",
    "print(\"output #2: {0:.2f}\".format(x))\n",
    "\n",
    "r = 8/float(3)\n",
    "r1 = 8/3\n",
    "print(\"output #3: {0:.2f}\".format(r))\n",
    "print(\"output #4: {0:.2f}\".format(r))\n",
    "\n",
    "print(\"output #5: {0}\".format(type(x)))\n",
    "print(\"output #6: {0}\".format(type(r)))\n",
    "print(\"output #7: {0}\".format(type(r1)))\n",
    "print(type(r1))\n",
    "print(type(r1))\n",
    "print(type(r1))\n",
    "\n",
    "type(r)\n",
    "type(r1)"
   ]
  },
  {
   "cell_type": "markdown",
   "metadata": {},
   "source": [
    "### 字串"
   ]
  },
  {
   "cell_type": "code",
   "execution_count": 60,
   "metadata": {},
   "outputs": [
    {
     "name": "stdout",
     "output_type": "stream",
     "text": [
      "output #1: I'm enjoying learning Python\n",
      "output #2: This is a short string. \n",
      "output #3: She is very very very very  beautiful. \n",
      "24\n",
      "24\n",
      "output #4: 24\n"
     ]
    }
   ],
   "source": [
    "print(\"output #1: {0:s}\".format(\"I'm enjoying learning Python\"))\n",
    "\n",
    "string1 = \"This is a \"\n",
    "string2 = \"short string. \"\n",
    "sentence = string1 + string2\n",
    "print(\"output #2: {0:s}\".format(sentence))\n",
    "\n",
    "print(\"output #3: {0:s} {1:s} {2:s}\".format(\"She is\", \"very \"*4, \"beautiful. \"))\n",
    "\n",
    "print(len(sentence))\n",
    "sentence_len = len(sentence)\n",
    "print(sentence_len)\n",
    "#print(\"output #4: {0}\".format(sentence_len))\n",
    "print(\"output #4: {0}\".format(sentence_len))\n",
    "      "
   ]
  },
  {
   "cell_type": "code",
   "execution_count": null,
   "metadata": {},
   "outputs": [],
   "source": []
  },
  {
   "cell_type": "code",
   "execution_count": null,
   "metadata": {},
   "outputs": [],
   "source": []
  }
 ],
 "metadata": {
  "kernelspec": {
   "display_name": "Python 3",
   "language": "python",
   "name": "python3"
  },
  "language_info": {
   "codemirror_mode": {
    "name": "ipython",
    "version": 3
   },
   "file_extension": ".py",
   "mimetype": "text/x-python",
   "name": "python",
   "nbconvert_exporter": "python",
   "pygments_lexer": "ipython3",
   "version": "3.7.3"
  }
 },
 "nbformat": 4,
 "nbformat_minor": 2
}
