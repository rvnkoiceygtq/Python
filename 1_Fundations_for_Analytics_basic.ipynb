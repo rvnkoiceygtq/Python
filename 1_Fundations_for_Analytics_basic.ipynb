{
 "cells": [
  {
   "cell_type": "markdown",
   "metadata": {},
   "source": [
    "# 取得目前檔案路徑"
   ]
  },
  {
   "cell_type": "code",
   "execution_count": 6,
   "metadata": {},
   "outputs": [
    {
     "name": "stdout",
     "output_type": "stream",
     "text": [
      "/Users/wurobin/Documents/Myfolder/機器學習/Python_train\n"
     ]
    }
   ],
   "source": [
    "import os\n",
    "cwd = os.getcwd()\n",
    "print(cwd)"
   ]
  },
  {
   "cell_type": "markdown",
   "metadata": {},
   "source": [
    "## 使用format"
   ]
  },
  {
   "cell_type": "code",
   "execution_count": 8,
   "metadata": {},
   "outputs": [
    {
     "name": "stdout",
     "output_type": "stream",
     "text": [
      "output #2: four plus five equals 9\n"
     ]
    }
   ],
   "source": [
    "x = 4\n",
    "y = 5\n",
    "z = x + y\n",
    "#format 中的值用：d 表示以不帶小數點的數值顯示\n",
    "print(\"output #2: four plus five equals {0:d}\".format(z))"
   ]
  },
  {
   "cell_type": "markdown",
   "metadata": {},
   "source": [
    "# multi format"
   ]
  },
  {
   "cell_type": "code",
   "execution_count": 7,
   "metadata": {},
   "outputs": [
    {
     "name": "stdout",
     "output_type": "stream",
     "text": [
      "output #3: [1, 2, 3, 4], ['first', 'second', 'third', 'fourth'], [1, 2, 3, 4, 'first', 'second', 'third', 'fourth']\n"
     ]
    }
   ],
   "source": [
    "a = [1, 2, 3, 4]\n",
    "b = [\"first\", \"second\", \"third\", \"fourth\"]\n",
    "c = a + b\n",
    "print(\"output #3: {0}, {1}, {2}\".format(a, b, c))"
   ]
  },
  {
   "cell_type": "markdown",
   "metadata": {},
   "source": [
    "# Python的基本元素  (數字, 字串, 日期, Tuple, 字典)"
   ]
  },
  {
   "cell_type": "markdown",
   "metadata": {},
   "source": [
    "### 數字 - 整數"
   ]
  },
  {
   "cell_type": "code",
   "execution_count": 33,
   "metadata": {},
   "outputs": [
    {
     "name": "stdout",
     "output_type": "stream",
     "text": [
      "output #4: 9\n",
      "output #5: 12\n",
      "output #6: 4.0\n",
      "output #7: 3.074074074074074\n",
      "output #8: 4.0\n"
     ]
    }
   ],
   "source": [
    "x = 9\n",
    "print(\"output #4: {0}\".format(x))\n",
    "print(\"output #5: {0}\".format(3*4))\n",
    "print(\"output #6: {0}\".format(8.0/2.0))\n",
    "print(\"output #7: {0}\".format(8.3/2.7))\n",
    "print(\"output #8: {0}\".format(int(8.3)/int(2.7)))"
   ]
  },
  {
   "cell_type": "markdown",
   "metadata": {},
   "source": [
    "### 數字 - 浮點數"
   ]
  },
  {
   "cell_type": "code",
   "execution_count": 37,
   "metadata": {},
   "outputs": [
    {
     "name": "stdout",
     "output_type": "stream",
     "text": [
      "output #1: 9.500\n",
      "output #2: 9.50\n",
      "output #3: 2.67\n",
      "output #4: 2.67\n",
      "output #5: <class 'float'>\n",
      "output #6: <class 'float'>\n",
      "output #7: <class 'float'>\n",
      "<class 'float'>\n",
      "<class 'float'>\n",
      "<class 'float'>\n"
     ]
    },
    {
     "data": {
      "text/plain": [
       "float"
      ]
     },
     "execution_count": 37,
     "metadata": {},
     "output_type": "execute_result"
    }
   ],
   "source": [
    "x = 9.5\n",
    "#有小數點不能用d \n",
    "#print(\"output #1: {0:d}\".format(x))\n",
    "print(\"output #1: {0:.3f}\".format(x))\n",
    "print(\"output #2: {0:.2f}\".format(x))\n",
    "\n",
    "r = 8/float(3)\n",
    "r1 = 8/3\n",
    "print(\"output #3: {0:.2f}\".format(r))\n",
    "print(\"output #4: {0:.2f}\".format(r))\n",
    "\n",
    "print(\"output #5: {0}\".format(type(x)))\n",
    "print(\"output #6: {0}\".format(type(r)))\n",
    "print(\"output #7: {0}\".format(type(r1)))\n",
    "print(type(r1))\n",
    "print(type(r1))\n",
    "print(type(r1))\n",
    "\n",
    "type(r)\n",
    "type(r1)"
   ]
  },
  {
   "cell_type": "markdown",
   "metadata": {},
   "source": [
    "### 字串"
   ]
  },
  {
   "cell_type": "code",
   "execution_count": 66,
   "metadata": {},
   "outputs": [
    {
     "name": "stdout",
     "output_type": "stream",
     "text": [
      "output #1: I'm enjoying learning Python\n",
      "output #2: This is a short string. \n",
      "output #3: She is very very very very  beautiful. \n",
      "24\n",
      "24\n",
      "output #4: 24\n"
     ]
    }
   ],
   "source": [
    "print(\"output #1: {0:s}\".format(\"I'm enjoying learning Python\"))\n",
    "\n",
    "string1 = \"This is a \"\n",
    "string2 = \"short string. \"\n",
    "sentence = string1 + string2\n",
    "print(\"output #2: {0:s}\".format(sentence))\n",
    "\n",
    "print(\"output #3: {0:s} {1:s} {2:s}\".format(\"She is\", \"very \"*4, \"beautiful. \"))\n",
    "\n",
    "print(len(sentence))\n",
    "sentence_len = len(sentence)\n",
    "print(sentence_len)\n",
    "#print(\"output #4: {0}\".format(sentence_len))\n",
    "print(\"output #4: {0}\".format(sentence_len))\n",
    "      "
   ]
  },
  {
   "cell_type": "markdown",
   "metadata": {},
   "source": [
    "### 字串split"
   ]
  },
  {
   "cell_type": "code",
   "execution_count": 65,
   "metadata": {},
   "outputs": [
    {
     "name": "stdout",
     "output_type": "stream",
     "text": [
      "['This', 'is', 'a', 'short', 'string.']\n",
      "['This', 'is a short string. ']\n"
     ]
    }
   ],
   "source": [
    "string1 = \"This is a \"\n",
    "string2 = \"short string. \"\n",
    "sentence = string1 + string2\n",
    "\n",
    "sentence_split = sentence.split()\n",
    "sentence_split_1 = sentence.split(\" \",1)\n",
    "print(sentence_split)\n",
    "print(sentence_split_1)"
   ]
  },
  {
   "cell_type": "markdown",
   "metadata": {},
   "source": [
    "### join string array"
   ]
  },
  {
   "cell_type": "code",
   "execution_count": 74,
   "metadata": {},
   "outputs": [
    {
     "name": "stdout",
     "output_type": "stream",
     "text": [
      "['My', 'name', 'is', 'Robin']\n",
      "My__name__is__Robin\n"
     ]
    }
   ],
   "source": [
    "string2 = \"My name is Robin\"\n",
    "string2_list = string2.split(\" \")\n",
    "print(string2_list)\n",
    "print(\"__\".join(string2_list))"
   ]
  },
  {
   "cell_type": "markdown",
   "metadata": {},
   "source": [
    "### strip string "
   ]
  },
  {
   "cell_type": "code",
   "execution_count": 81,
   "metadata": {},
   "outputs": [
    {
     "name": "stdout",
     "output_type": "stream",
     "text": [
      "    Remove character    from this string.     \n",
      "Remove character    from this string.     \n",
      "    Remove character    from this string.\n",
      "Remove character    from this string.\n"
     ]
    }
   ],
   "source": [
    "string3 = \"    Remove character    from this string.     \"\n",
    "print(string3)\n",
    "string3_lstrip = string3.lstrip()\n",
    "print(string3_lstrip)\n",
    "\n",
    "string3_rstrip = string3.rstrip()\n",
    "print(string3_rstrip)\n",
    "\n",
    "string3_strip = string3.strip()\n",
    "print(string3_strip)"
   ]
  },
  {
   "cell_type": "markdown",
   "metadata": {},
   "source": [
    "### replace string"
   ]
  },
  {
   "cell_type": "code",
   "execution_count": 83,
   "metadata": {},
   "outputs": [
    {
     "name": "stdout",
     "output_type": "stream",
     "text": [
      "My@@name@@is@@Robin\n"
     ]
    }
   ],
   "source": [
    "string2 = \"My name is Robin\"\n",
    "string2_replace = string2.replace(\" \",\"@@\")\n",
    "print(string2_replace)"
   ]
  },
  {
   "cell_type": "code",
   "execution_count": 89,
   "metadata": {},
   "outputs": [
    {
     "name": "stdout",
     "output_type": "stream",
     "text": [
      "xxx [1, 2, 3, 5]\n",
      "a_list has 4 elements\n",
      "a_list max elements is 5\n",
      "a_list max elements is 1\n",
      "1\n",
      "5\n"
     ]
    }
   ],
   "source": [
    "a_list = [1, 2, 3, 5]\n",
    "print(\"xxx {}\".format(a_list))\n",
    "print(\"a_list has {} elements\".format(len(a_list)))\n",
    "\n",
    "print(\"a_list max elements is {}\".format(max(a_list)))\n",
    "print(\"a_list max elements is {}\".format(min(a_list)))\n",
    "\n",
    "print(a_list[0])\n",
    "print(a_list[3])"
   ]
  },
  {
   "cell_type": "markdown",
   "metadata": {},
   "source": [
    "### Regular Expression 正規表達式"
   ]
  },
  {
   "cell_type": "code",
   "execution_count": 94,
   "metadata": {},
   "outputs": [
    {
     "name": "stdout",
     "output_type": "stream",
     "text": [
      "2\n"
     ]
    }
   ],
   "source": [
    "import re\n",
    "string = \"The quick brown fox jumps over the lazy dog.\"\n",
    "string_list = string.split(\" \")\n",
    "string_list\n",
    "#re.I 區分大小寫(忽略大小寫)\n",
    "pattern = re.compile(r\"The\", re.I)\n",
    "count = 0\n",
    "for word in string_list:\n",
    "    if pattern.search(word):\n",
    "            count += 1\n",
    "print(\"{0:d}\".format(count))"
   ]
  },
  {
   "cell_type": "markdown",
   "metadata": {},
   "source": [
    "### 索引值"
   ]
  },
  {
   "cell_type": "code",
   "execution_count": 98,
   "metadata": {},
   "outputs": [
    {
     "name": "stdout",
     "output_type": "stream",
     "text": [
      "[1, 2, 3, 6]\n",
      "has 4 elements\n"
     ]
    }
   ],
   "source": [
    "a_list = [1, 2, 3, 6]\n",
    "print(\"{}\".format(a_list))\n",
    "print(\"has {} elements\".format(len(a_list)))\n"
   ]
  },
  {
   "cell_type": "markdown",
   "metadata": {},
   "source": [
    "### 串列切片\n"
   ]
  },
  {
   "cell_type": "code",
   "execution_count": 101,
   "metadata": {},
   "outputs": [
    {
     "name": "stdout",
     "output_type": "stream",
     "text": [
      "[1, 2, 3]\n"
     ]
    }
   ],
   "source": [
    "a_list = [1, 2, 3, 6]\n",
    "print(\"{}\".format(a_list[0:3]))"
   ]
  },
  {
   "cell_type": "markdown",
   "metadata": {},
   "source": [
    "### 使用 in 與 not in"
   ]
  },
  {
   "cell_type": "code",
   "execution_count": 107,
   "metadata": {},
   "outputs": [
    {
     "name": "stdout",
     "output_type": "stream",
     "text": [
      "True\n",
      "True\n",
      "False\n",
      "6 is not in [1, 2, 3, 6]\n"
     ]
    }
   ],
   "source": [
    "a_list = [1, 2, 3, 6]\n",
    "b = 3\n",
    "a = 2 in a_list\n",
    "print(\"{}\".format(a))\n",
    "\n",
    "if b in a_list:\n",
    "    print(a)\n",
    "\n",
    "b = 6 not in a_list\n",
    "print(\"{}\".format(b))\n",
    "    \n",
    "if 9 not in a_list:\n",
    "    print(\"6 is not in {}\".format(a_list))"
   ]
  },
  {
   "cell_type": "markdown",
   "metadata": {},
   "source": [
    "### append, remove, pop, reverse, sort"
   ]
  },
  {
   "cell_type": "code",
   "execution_count": 117,
   "metadata": {},
   "outputs": [
    {
     "name": "stdout",
     "output_type": "stream",
     "text": [
      "a_list is [1, 2, 3, 6]\n",
      "a_list is [1, 2, 3, 6, 9, 13]\n",
      "a_list is [1, 2, 6, 9, 13]\n",
      "a_list is [1, 2, 6, 9]\n",
      "a_list is [1, 2, 6]\n",
      "a_list is [6, 2, 1]\n",
      "a_list is [1, 2, 6]\n",
      "a_list is [1, 2, 6, 5]\n",
      "a_list is [1, 2, 5, 6]\n"
     ]
    }
   ],
   "source": [
    "a_list = [1, 2, 3, 6]\n",
    "print(\"a_list is {}\".format(a_list))\n",
    "\n",
    "a_list.append(9)\n",
    "a_list.append(13)\n",
    "print(\"a_list is {}\".format(a_list))\n",
    "\n",
    "a_list.remove(3)\n",
    "print(\"a_list is {}\".format(a_list))\n",
    "\n",
    "a_list.pop()\n",
    "print(\"a_list is {}\".format(a_list))\n",
    "\n",
    "a_list.pop()\n",
    "print(\"a_list is {}\".format(a_list))\n",
    "\n",
    "a_list.reverse()\n",
    "print(\"a_list is {}\".format(a_list))\n",
    "\n",
    "a_list.reverse()\n",
    "print(\"a_list is {}\".format(a_list))\n",
    "\n",
    "a_list.append(5)\n",
    "print(\"a_list is {}\".format(a_list))\n",
    "\n",
    "a_list.sort()\n",
    "print(\"a_list is {}\".format(a_list))\n",
    "\n"
   ]
  },
  {
   "cell_type": "markdown",
   "metadata": {},
   "source": [
    "### Tuple"
   ]
  },
  {
   "cell_type": "code",
   "execution_count": 119,
   "metadata": {},
   "outputs": [
    {
     "name": "stdout",
     "output_type": "stream",
     "text": [
      "tuple is ('x', 'y', 'z')\n",
      "list is ['a', 'b', 'c']\n"
     ]
    }
   ],
   "source": [
    "my_tuple = (\"x\", \"y\", \"z\")\n",
    "print(\"tuple is {}\".format(my_tuple))\n",
    "\n",
    "my_list = [\"a\", \"b\", \"c\"]\n",
    "print(\"list is {}\".format(my_list))"
   ]
  },
  {
   "cell_type": "markdown",
   "metadata": {},
   "source": [
    "### 建立字典"
   ]
  },
  {
   "cell_type": "code",
   "execution_count": 126,
   "metadata": {},
   "outputs": [
    {
     "name": "stdout",
     "output_type": "stream",
     "text": [
      "my dict is {'one': 1, 'two': 2, 'three': 3}\n",
      "a_dict two is 2\n",
      "my new dict is {'one': 1, 'two': 2, 'three': 3}\n",
      "my new dict keys is dict_keys(['one', 'two', 'three'])\n",
      "my new dict values is dict_values([1, 2, 3])\n",
      "my new dict items is dict_items([('one', 1), ('two', 2), ('three', 3)])\n"
     ]
    }
   ],
   "source": [
    "a_dict = {'one':1, 'two':2, 'three':3}\n",
    "print(\"my dict is {}\".format(a_dict))\n",
    "\n",
    "print(\"a_dict two is {}\".format(a_dict['two']))\n",
    "\n",
    "a_dict_new = a_dict.copy()\n",
    "print(\"my new dict is {}\".format(a_dict_new))\n",
    "\n",
    "print(\"my new dict keys is {}\".format(a_dict_new.keys()))\n",
    "print(\"my new dict values is {}\".format(a_dict_new.values()))\n",
    "print(\"my new dict items is {}\".format(a_dict_new.items()))\n"
   ]
  },
  {
   "cell_type": "code",
   "execution_count": null,
   "metadata": {},
   "outputs": [],
   "source": []
  }
 ],
 "metadata": {
  "kernelspec": {
   "display_name": "Python 3",
   "language": "python",
   "name": "python3"
  },
  "language_info": {
   "codemirror_mode": {
    "name": "ipython",
    "version": 3
   },
   "file_extension": ".py",
   "mimetype": "text/x-python",
   "name": "python",
   "nbconvert_exporter": "python",
   "pygments_lexer": "ipython3",
   "version": "3.7.3"
  }
 },
 "nbformat": 4,
 "nbformat_minor": 2
}
