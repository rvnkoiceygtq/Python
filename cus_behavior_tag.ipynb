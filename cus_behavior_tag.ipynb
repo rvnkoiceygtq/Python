{
 "metadata": {
  "language_info": {
   "codemirror_mode": {
    "name": "ipython",
    "version": 3
   },
   "file_extension": ".py",
   "mimetype": "text/x-python",
   "name": "python",
   "nbconvert_exporter": "python",
   "pygments_lexer": "ipython3",
   "version": "3.7.6-final"
  },
  "orig_nbformat": 2,
  "kernelspec": {
   "name": "python37664bitbasedb0d6550057b44148170bf3c6629b6c6",
   "display_name": "Python 3.7.6 64-bit ('base')"
  }
 },
 "nbformat": 4,
 "nbformat_minor": 2,
 "cells": [
  {
   "cell_type": "code",
   "execution_count": 1,
   "metadata": {
    "tags": []
   },
   "outputs": [
    {
     "output_type": "stream",
     "name": "stdout",
     "text": "d:\\python_script\n"
    }
   ],
   "source": [
    "import os\n",
    "cwd = os.getcwd()\n",
    "print(cwd)"
   ]
  },
  {
   "cell_type": "code",
   "execution_count": 15,
   "metadata": {},
   "outputs": [],
   "source": [
    "import pyodbc\n",
    "import matplotlib.pyplot as plt\n",
    "import pandas as pd\n",
    "import numpy as np\n",
    "#import xgboost as xgb\n",
    "\n",
    "#from xgboost import XGBClassifier\n",
    "#from xgboost import plot_importance\n",
    "#from sklearn.model_selection import train_test_split"
   ]
  },
  {
   "cell_type": "code",
   "execution_count": 29,
   "metadata": {
    "tags": []
   },
   "outputs": [
    {
     "output_type": "stream",
     "name": "stdout",
     "text": "Index(['UNINO', 'Action_Type_2'], dtype='object')\n"
    }
   ],
   "source": [
    "cnxn = pyodbc.connect(driver='{SQL Server}', server='10.11.48.12', database='FZSRD_BD',               \n",
    "               trusted_connection='yes')\n",
    "\n",
    "#sql = \"SELECT * FROM v_henry_A_投資理財\"\n",
    "#sql = \"SELECT * FROM [FZSRD_INTERN].[dbo].henry\"\n",
    "sql = \"select UNINO,Action_Type_2 from cus_behavior_tag where Action_Date_YYYYMM='202008' and UNINO IN ('A1727654890','L1755085990')\"\n",
    "\n",
    "data=pd.read_sql(sql, cnxn)\n",
    "print(data.columns)\n",
    "cnxn.close()"
   ]
  },
  {
   "cell_type": "code",
   "execution_count": 30,
   "metadata": {},
   "outputs": [
    {
     "output_type": "execute_result",
     "data": {
      "text/plain": "         UNINO     Action_Type_2\n0  A1727654890       TWD_入帳_薪資轉帳\n1  A1727654890  LOGIN_MOBILE_APP\n2  A1727654890     TWD_扣款_ATM 現金\n3  L1755085990       TWD_扣款_火險保費\n4  A1727654890     TWD_入帳_FXML入帳\n5  L1755085990       TWD_入帳_網銀轉帳\n6  L1755085990       TWD_扣款_放款本息\n7  A1727654890       TWD_扣款_手機轉帳",
      "text/html": "<div>\n<style scoped>\n    .dataframe tbody tr th:only-of-type {\n        vertical-align: middle;\n    }\n\n    .dataframe tbody tr th {\n        vertical-align: top;\n    }\n\n    .dataframe thead th {\n        text-align: right;\n    }\n</style>\n<table border=\"1\" class=\"dataframe\">\n  <thead>\n    <tr style=\"text-align: right;\">\n      <th></th>\n      <th>UNINO</th>\n      <th>Action_Type_2</th>\n    </tr>\n  </thead>\n  <tbody>\n    <tr>\n      <th>0</th>\n      <td>A1727654890</td>\n      <td>TWD_入帳_薪資轉帳</td>\n    </tr>\n    <tr>\n      <th>1</th>\n      <td>A1727654890</td>\n      <td>LOGIN_MOBILE_APP</td>\n    </tr>\n    <tr>\n      <th>2</th>\n      <td>A1727654890</td>\n      <td>TWD_扣款_ATM 現金</td>\n    </tr>\n    <tr>\n      <th>3</th>\n      <td>L1755085990</td>\n      <td>TWD_扣款_火險保費</td>\n    </tr>\n    <tr>\n      <th>4</th>\n      <td>A1727654890</td>\n      <td>TWD_入帳_FXML入帳</td>\n    </tr>\n    <tr>\n      <th>5</th>\n      <td>L1755085990</td>\n      <td>TWD_入帳_網銀轉帳</td>\n    </tr>\n    <tr>\n      <th>6</th>\n      <td>L1755085990</td>\n      <td>TWD_扣款_放款本息</td>\n    </tr>\n    <tr>\n      <th>7</th>\n      <td>A1727654890</td>\n      <td>TWD_扣款_手機轉帳</td>\n    </tr>\n  </tbody>\n</table>\n</div>"
     },
     "metadata": {},
     "execution_count": 30
    }
   ],
   "source": [
    "data.head(20)"
   ]
  },
  {
   "cell_type": "code",
   "execution_count": 32,
   "metadata": {},
   "outputs": [],
   "source": [
    "df_dummy = pd.get_dummies(data, columns=['Action_Type_2'])"
   ]
  },
  {
   "cell_type": "code",
   "execution_count": 33,
   "metadata": {},
   "outputs": [
    {
     "output_type": "execute_result",
     "data": {
      "text/plain": "         UNINO  Action_Type_2_LOGIN_MOBILE_APP  Action_Type_2_TWD_入帳_FXML入帳  \\\n0  A1727654890                               0                            0   \n1  A1727654890                               1                            0   \n2  A1727654890                               0                            0   \n3  L1755085990                               0                            0   \n4  A1727654890                               0                            1   \n5  L1755085990                               0                            0   \n6  L1755085990                               0                            0   \n7  A1727654890                               0                            0   \n\n   Action_Type_2_TWD_入帳_網銀轉帳  Action_Type_2_TWD_入帳_薪資轉帳  \\\n0                          0                          1   \n1                          0                          0   \n2                          0                          0   \n3                          0                          0   \n4                          0                          0   \n5                          1                          0   \n6                          0                          0   \n7                          0                          0   \n\n   Action_Type_2_TWD_扣款_ATM 現金  Action_Type_2_TWD_扣款_手機轉帳  \\\n0                            0                          0   \n1                            0                          0   \n2                            1                          0   \n3                            0                          0   \n4                            0                          0   \n5                            0                          0   \n6                            0                          0   \n7                            0                          1   \n\n   Action_Type_2_TWD_扣款_放款本息  Action_Type_2_TWD_扣款_火險保費  \n0                          0                          0  \n1                          0                          0  \n2                          0                          0  \n3                          0                          1  \n4                          0                          0  \n5                          0                          0  \n6                          1                          0  \n7                          0                          0  ",
      "text/html": "<div>\n<style scoped>\n    .dataframe tbody tr th:only-of-type {\n        vertical-align: middle;\n    }\n\n    .dataframe tbody tr th {\n        vertical-align: top;\n    }\n\n    .dataframe thead th {\n        text-align: right;\n    }\n</style>\n<table border=\"1\" class=\"dataframe\">\n  <thead>\n    <tr style=\"text-align: right;\">\n      <th></th>\n      <th>UNINO</th>\n      <th>Action_Type_2_LOGIN_MOBILE_APP</th>\n      <th>Action_Type_2_TWD_入帳_FXML入帳</th>\n      <th>Action_Type_2_TWD_入帳_網銀轉帳</th>\n      <th>Action_Type_2_TWD_入帳_薪資轉帳</th>\n      <th>Action_Type_2_TWD_扣款_ATM 現金</th>\n      <th>Action_Type_2_TWD_扣款_手機轉帳</th>\n      <th>Action_Type_2_TWD_扣款_放款本息</th>\n      <th>Action_Type_2_TWD_扣款_火險保費</th>\n    </tr>\n  </thead>\n  <tbody>\n    <tr>\n      <th>0</th>\n      <td>A1727654890</td>\n      <td>0</td>\n      <td>0</td>\n      <td>0</td>\n      <td>1</td>\n      <td>0</td>\n      <td>0</td>\n      <td>0</td>\n      <td>0</td>\n    </tr>\n    <tr>\n      <th>1</th>\n      <td>A1727654890</td>\n      <td>1</td>\n      <td>0</td>\n      <td>0</td>\n      <td>0</td>\n      <td>0</td>\n      <td>0</td>\n      <td>0</td>\n      <td>0</td>\n    </tr>\n    <tr>\n      <th>2</th>\n      <td>A1727654890</td>\n      <td>0</td>\n      <td>0</td>\n      <td>0</td>\n      <td>0</td>\n      <td>1</td>\n      <td>0</td>\n      <td>0</td>\n      <td>0</td>\n    </tr>\n    <tr>\n      <th>3</th>\n      <td>L1755085990</td>\n      <td>0</td>\n      <td>0</td>\n      <td>0</td>\n      <td>0</td>\n      <td>0</td>\n      <td>0</td>\n      <td>0</td>\n      <td>1</td>\n    </tr>\n    <tr>\n      <th>4</th>\n      <td>A1727654890</td>\n      <td>0</td>\n      <td>1</td>\n      <td>0</td>\n      <td>0</td>\n      <td>0</td>\n      <td>0</td>\n      <td>0</td>\n      <td>0</td>\n    </tr>\n    <tr>\n      <th>5</th>\n      <td>L1755085990</td>\n      <td>0</td>\n      <td>0</td>\n      <td>1</td>\n      <td>0</td>\n      <td>0</td>\n      <td>0</td>\n      <td>0</td>\n      <td>0</td>\n    </tr>\n    <tr>\n      <th>6</th>\n      <td>L1755085990</td>\n      <td>0</td>\n      <td>0</td>\n      <td>0</td>\n      <td>0</td>\n      <td>0</td>\n      <td>0</td>\n      <td>1</td>\n      <td>0</td>\n    </tr>\n    <tr>\n      <th>7</th>\n      <td>A1727654890</td>\n      <td>0</td>\n      <td>0</td>\n      <td>0</td>\n      <td>0</td>\n      <td>0</td>\n      <td>1</td>\n      <td>0</td>\n      <td>0</td>\n    </tr>\n  </tbody>\n</table>\n</div>"
     },
     "metadata": {},
     "execution_count": 33
    }
   ],
   "source": [
    "df_dummy"
   ]
  },
  {
   "cell_type": "code",
   "execution_count": 34,
   "metadata": {},
   "outputs": [
    {
     "output_type": "execute_result",
     "data": {
      "text/plain": "             Action_Type_2_LOGIN_MOBILE_APP  Action_Type_2_TWD_入帳_FXML入帳  \\\nUNINO                                                                      \nA1727654890                               1                            1   \nL1755085990                               0                            0   \n\n             Action_Type_2_TWD_入帳_網銀轉帳  Action_Type_2_TWD_入帳_薪資轉帳  \\\nUNINO                                                               \nA1727654890                          0                          1   \nL1755085990                          1                          0   \n\n             Action_Type_2_TWD_扣款_ATM 現金  Action_Type_2_TWD_扣款_手機轉帳  \\\nUNINO                                                                 \nA1727654890                            1                          1   \nL1755085990                            0                          0   \n\n             Action_Type_2_TWD_扣款_放款本息  Action_Type_2_TWD_扣款_火險保費  \nUNINO                                                              \nA1727654890                          0                          0  \nL1755085990                          1                          1  ",
      "text/html": "<div>\n<style scoped>\n    .dataframe tbody tr th:only-of-type {\n        vertical-align: middle;\n    }\n\n    .dataframe tbody tr th {\n        vertical-align: top;\n    }\n\n    .dataframe thead th {\n        text-align: right;\n    }\n</style>\n<table border=\"1\" class=\"dataframe\">\n  <thead>\n    <tr style=\"text-align: right;\">\n      <th></th>\n      <th>Action_Type_2_LOGIN_MOBILE_APP</th>\n      <th>Action_Type_2_TWD_入帳_FXML入帳</th>\n      <th>Action_Type_2_TWD_入帳_網銀轉帳</th>\n      <th>Action_Type_2_TWD_入帳_薪資轉帳</th>\n      <th>Action_Type_2_TWD_扣款_ATM 現金</th>\n      <th>Action_Type_2_TWD_扣款_手機轉帳</th>\n      <th>Action_Type_2_TWD_扣款_放款本息</th>\n      <th>Action_Type_2_TWD_扣款_火險保費</th>\n    </tr>\n    <tr>\n      <th>UNINO</th>\n      <th></th>\n      <th></th>\n      <th></th>\n      <th></th>\n      <th></th>\n      <th></th>\n      <th></th>\n      <th></th>\n    </tr>\n  </thead>\n  <tbody>\n    <tr>\n      <th>A1727654890</th>\n      <td>1</td>\n      <td>1</td>\n      <td>0</td>\n      <td>1</td>\n      <td>1</td>\n      <td>1</td>\n      <td>0</td>\n      <td>0</td>\n    </tr>\n    <tr>\n      <th>L1755085990</th>\n      <td>0</td>\n      <td>0</td>\n      <td>1</td>\n      <td>0</td>\n      <td>0</td>\n      <td>0</td>\n      <td>1</td>\n      <td>1</td>\n    </tr>\n  </tbody>\n</table>\n</div>"
     },
     "metadata": {},
     "execution_count": 34
    }
   ],
   "source": [
    "df_dummy.groupby('UNINO').sum()"
   ]
  },
  {
   "cell_type": "code",
   "execution_count": 59,
   "metadata": {},
   "outputs": [
    {
     "output_type": "error",
     "ename": "SyntaxError",
     "evalue": "invalid syntax (<ipython-input-59-602da21d5fa6>, line 1)",
     "traceback": [
      "\u001b[1;36m  File \u001b[1;32m\"<ipython-input-59-602da21d5fa6>\"\u001b[1;36m, line \u001b[1;32m1\u001b[0m\n\u001b[1;33m    df_dummy[[:,1:]].head(5)\u001b[0m\n\u001b[1;37m              ^\u001b[0m\n\u001b[1;31mSyntaxError\u001b[0m\u001b[1;31m:\u001b[0m invalid syntax\n"
     ]
    }
   ],
   "source": [
    "df_dummy[[:,1:]].head(5)\n"
   ]
  },
  {
   "cell_type": "code",
   "execution_count": 47,
   "metadata": {
    "tags": []
   },
   "outputs": [
    {
     "output_type": "execute_result",
     "data": {
      "text/plain": "                  Action_Type_2\nTWD_入帳_薪資轉帳                   1\nTWD_扣款_火險保費                   1\nTWD_扣款_放款本息                   1\nTWD_入帳_FXML入帳                 1\nTWD_扣款_ATM 現金                 1\nTWD_入帳_網銀轉帳                   1\nTWD_扣款_手機轉帳                   1\nLOGIN_MOBILE_APP              1",
      "text/html": "<div>\n<style scoped>\n    .dataframe tbody tr th:only-of-type {\n        vertical-align: middle;\n    }\n\n    .dataframe tbody tr th {\n        vertical-align: top;\n    }\n\n    .dataframe thead th {\n        text-align: right;\n    }\n</style>\n<table border=\"1\" class=\"dataframe\">\n  <thead>\n    <tr style=\"text-align: right;\">\n      <th></th>\n      <th>Action_Type_2</th>\n    </tr>\n  </thead>\n  <tbody>\n    <tr>\n      <th>TWD_入帳_薪資轉帳</th>\n      <td>1</td>\n    </tr>\n    <tr>\n      <th>TWD_扣款_火險保費</th>\n      <td>1</td>\n    </tr>\n    <tr>\n      <th>TWD_扣款_放款本息</th>\n      <td>1</td>\n    </tr>\n    <tr>\n      <th>TWD_入帳_FXML入帳</th>\n      <td>1</td>\n    </tr>\n    <tr>\n      <th>TWD_扣款_ATM 現金</th>\n      <td>1</td>\n    </tr>\n    <tr>\n      <th>TWD_入帳_網銀轉帳</th>\n      <td>1</td>\n    </tr>\n    <tr>\n      <th>TWD_扣款_手機轉帳</th>\n      <td>1</td>\n    </tr>\n    <tr>\n      <th>LOGIN_MOBILE_APP</th>\n      <td>1</td>\n    </tr>\n  </tbody>\n</table>\n</div>"
     },
     "metadata": {},
     "execution_count": 47
    }
   ],
   "source": [
    "data['Action_Type_2'].head(10).value_counts(ascending=True).head(200).to_frame()\n",
    "\n"
   ]
  },
  {
   "cell_type": "code",
   "execution_count": null,
   "metadata": {},
   "outputs": [],
   "source": []
  },
  {
   "cell_type": "code",
   "execution_count": 54,
   "metadata": {},
   "outputs": [
    {
     "output_type": "display_data",
     "data": {
      "text/plain": "1"
     },
     "metadata": {}
    },
    {
     "output_type": "display_data",
     "data": {
      "text/plain": "1"
     },
     "metadata": {}
    },
    {
     "output_type": "display_data",
     "data": {
      "text/plain": "1"
     },
     "metadata": {}
    },
    {
     "output_type": "display_data",
     "data": {
      "text/plain": "1"
     },
     "metadata": {}
    },
    {
     "output_type": "display_data",
     "data": {
      "text/plain": "1"
     },
     "metadata": {}
    },
    {
     "output_type": "display_data",
     "data": {
      "text/plain": "1"
     },
     "metadata": {}
    },
    {
     "output_type": "display_data",
     "data": {
      "text/plain": "1"
     },
     "metadata": {}
    },
    {
     "output_type": "display_data",
     "data": {
      "text/plain": "1"
     },
     "metadata": {}
    }
   ],
   "source": [
    "df_dummy_NON_ID = df_dummy.drop([\"UNINO\"],axis=1)\n",
    "\n",
    "cn = df_dummy_NON_ID.columns.tolist()\n",
    "\n",
    "for col in cn:\n",
    "    display(df_dummy[col].sum())\n",
    "    #df_dummy.groupby('UNINO').sum()\n",
    "    #display(df_dummy_NON_ID[col].value_counts(ascending=True).head(5).to_frame())"
   ]
  },
  {
   "cell_type": "code",
   "execution_count": null,
   "metadata": {},
   "outputs": [],
   "source": []
  }
 ]
}